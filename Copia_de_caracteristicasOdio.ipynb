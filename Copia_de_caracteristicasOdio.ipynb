{
  "cells": [
    {
      "cell_type": "markdown",
      "metadata": {
        "id": "view-in-github",
        "colab_type": "text"
      },
      "source": [
        "<a href=\"https://colab.research.google.com/github/renbenj29974/EntregaFinal-Nazate/blob/main/Copia_de_caracteristicasOdio.ipynb\" target=\"_parent\"><img src=\"https://colab.research.google.com/assets/colab-badge.svg\" alt=\"Open In Colab\"/></a>"
      ]
    },
    {
      "cell_type": "markdown",
      "metadata": {
        "id": "Slh0_EH3Ojna"
      },
      "source": [
        "**Universidad Internacional de La Rioja (UNIR) - Máster Universitario en Inteligencia Artificial - Procesamiento del Lenguaje Natural**"
      ]
    },
    {
      "cell_type": "markdown",
      "metadata": {
        "id": "-CyDQCIZOjnb"
      },
      "source": [
        "***\n",
        "Datos del alumno (Nombre y Apellidos): Renán Benjamín Nazate Ortiz\n",
        "\n",
        "Fecha: 2024-05-03\n",
        "***"
      ]
    },
    {
      "cell_type": "markdown",
      "metadata": {
        "id": "xmmnThhBOjnb"
      },
      "source": [
        "<span style=\"font-size: 20pt; font-weight: bold; color: #0098cd;\">Trabajo: Named-Entity Recognition</span>\n",
        "\n",
        "**Objetivos**\n",
        "\n",
        "Con esta actividad se tratará de que el alumno se familiarice con el manejo de la librería spacy, así como con los conceptos básicos de manejo de las técnicas NER\n",
        "\n",
        "**Descripción**\n",
        "\n",
        "En esta actividad debes procesar de forma automática un texto en lenguaje natural para detectar características básicas en el mismo, y para identificar y etiquetar las ocurrencias de conceptos como localización, moneda, empresas, etc.\n",
        "\n",
        "En la primera parte del ejercicio se proporciona un código fuente a través del cual se lee un archivo de texto y se realiza un preprocesado del mismo. En esta parte el alumno tan sólo debe ejecutar y entender el código proporcionado.\n",
        "\n",
        "En la segunda parte del ejercicio se plantean una serie de preguntas que deben ser respondidas por el alumno. Cada pregunta deberá responderse con un fragmento de código fuente que esté acompañado de la explicación correspondiente. Para elaborar el código solicitado, el alumno deberá visitar la documentación de la librería spacy, cuyos enlaces se proporcionarán donde corresponda."
      ]
    },
    {
      "cell_type": "code",
      "source": [
        "from google.colab import drive\n",
        "drive.mount('/content/drive')"
      ],
      "metadata": {
        "colab": {
          "base_uri": "https://localhost:8080/"
        },
        "id": "kG4BFCErPDWo",
        "outputId": "629de535-8239-4dae-dc74-77f58886976e"
      },
      "execution_count": null,
      "outputs": [
        {
          "output_type": "stream",
          "name": "stdout",
          "text": [
            "Drive already mounted at /content/drive; to attempt to forcibly remount, call drive.mount(\"/content/drive\", force_remount=True).\n"
          ]
        }
      ]
    },
    {
      "cell_type": "markdown",
      "metadata": {
        "id": "M0fcRYTdOjnc"
      },
      "source": [
        "# Parte 1: carga y preprocesamiento del texto a analizar"
      ]
    },
    {
      "cell_type": "markdown",
      "metadata": {
        "id": "natxNHXIOjnc"
      },
      "source": [
        "Observa las diferentes librerías que se están importando."
      ]
    },
    {
      "cell_type": "code",
      "execution_count": null,
      "metadata": {
        "id": "CqEir6MYOjnc",
        "colab": {
          "base_uri": "https://localhost:8080/"
        },
        "outputId": "cd3fb255-328d-4d78-b47d-c9ae4dffbba8"
      },
      "outputs": [
        {
          "output_type": "stream",
          "name": "stdout",
          "text": [
            "Collecting es-core-news-md==3.7.0\n",
            "  Downloading https://github.com/explosion/spacy-models/releases/download/es_core_news_md-3.7.0/es_core_news_md-3.7.0-py3-none-any.whl (42.3 MB)\n",
            "\u001b[2K     \u001b[90m━━━━━━━━━━━━━━━━━━━━━━━━━━━━━━━━━━━━━━━━\u001b[0m \u001b[32m42.3/42.3 MB\u001b[0m \u001b[31m15.9 MB/s\u001b[0m eta \u001b[36m0:00:00\u001b[0m\n",
            "\u001b[?25hRequirement already satisfied: spacy<3.8.0,>=3.7.0 in /usr/local/lib/python3.10/dist-packages (from es-core-news-md==3.7.0) (3.7.4)\n",
            "Requirement already satisfied: spacy-legacy<3.1.0,>=3.0.11 in /usr/local/lib/python3.10/dist-packages (from spacy<3.8.0,>=3.7.0->es-core-news-md==3.7.0) (3.0.12)\n",
            "Requirement already satisfied: spacy-loggers<2.0.0,>=1.0.0 in /usr/local/lib/python3.10/dist-packages (from spacy<3.8.0,>=3.7.0->es-core-news-md==3.7.0) (1.0.5)\n",
            "Requirement already satisfied: murmurhash<1.1.0,>=0.28.0 in /usr/local/lib/python3.10/dist-packages (from spacy<3.8.0,>=3.7.0->es-core-news-md==3.7.0) (1.0.10)\n",
            "Requirement already satisfied: cymem<2.1.0,>=2.0.2 in /usr/local/lib/python3.10/dist-packages (from spacy<3.8.0,>=3.7.0->es-core-news-md==3.7.0) (2.0.8)\n",
            "Requirement already satisfied: preshed<3.1.0,>=3.0.2 in /usr/local/lib/python3.10/dist-packages (from spacy<3.8.0,>=3.7.0->es-core-news-md==3.7.0) (3.0.9)\n",
            "Requirement already satisfied: thinc<8.3.0,>=8.2.2 in /usr/local/lib/python3.10/dist-packages (from spacy<3.8.0,>=3.7.0->es-core-news-md==3.7.0) (8.2.3)\n",
            "Requirement already satisfied: wasabi<1.2.0,>=0.9.1 in /usr/local/lib/python3.10/dist-packages (from spacy<3.8.0,>=3.7.0->es-core-news-md==3.7.0) (1.1.2)\n",
            "Requirement already satisfied: srsly<3.0.0,>=2.4.3 in /usr/local/lib/python3.10/dist-packages (from spacy<3.8.0,>=3.7.0->es-core-news-md==3.7.0) (2.4.8)\n",
            "Requirement already satisfied: catalogue<2.1.0,>=2.0.6 in /usr/local/lib/python3.10/dist-packages (from spacy<3.8.0,>=3.7.0->es-core-news-md==3.7.0) (2.0.10)\n",
            "Requirement already satisfied: weasel<0.4.0,>=0.1.0 in /usr/local/lib/python3.10/dist-packages (from spacy<3.8.0,>=3.7.0->es-core-news-md==3.7.0) (0.3.4)\n",
            "Requirement already satisfied: typer<0.10.0,>=0.3.0 in /usr/local/lib/python3.10/dist-packages (from spacy<3.8.0,>=3.7.0->es-core-news-md==3.7.0) (0.9.4)\n",
            "Requirement already satisfied: smart-open<7.0.0,>=5.2.1 in /usr/local/lib/python3.10/dist-packages (from spacy<3.8.0,>=3.7.0->es-core-news-md==3.7.0) (6.4.0)\n",
            "Requirement already satisfied: tqdm<5.0.0,>=4.38.0 in /usr/local/lib/python3.10/dist-packages (from spacy<3.8.0,>=3.7.0->es-core-news-md==3.7.0) (4.66.2)\n",
            "Requirement already satisfied: requests<3.0.0,>=2.13.0 in /usr/local/lib/python3.10/dist-packages (from spacy<3.8.0,>=3.7.0->es-core-news-md==3.7.0) (2.31.0)\n",
            "Requirement already satisfied: pydantic!=1.8,!=1.8.1,<3.0.0,>=1.7.4 in /usr/local/lib/python3.10/dist-packages (from spacy<3.8.0,>=3.7.0->es-core-news-md==3.7.0) (2.7.1)\n",
            "Requirement already satisfied: jinja2 in /usr/local/lib/python3.10/dist-packages (from spacy<3.8.0,>=3.7.0->es-core-news-md==3.7.0) (3.1.3)\n",
            "Requirement already satisfied: setuptools in /usr/local/lib/python3.10/dist-packages (from spacy<3.8.0,>=3.7.0->es-core-news-md==3.7.0) (67.7.2)\n",
            "Requirement already satisfied: packaging>=20.0 in /usr/local/lib/python3.10/dist-packages (from spacy<3.8.0,>=3.7.0->es-core-news-md==3.7.0) (24.0)\n",
            "Requirement already satisfied: langcodes<4.0.0,>=3.2.0 in /usr/local/lib/python3.10/dist-packages (from spacy<3.8.0,>=3.7.0->es-core-news-md==3.7.0) (3.4.0)\n",
            "Requirement already satisfied: numpy>=1.19.0 in /usr/local/lib/python3.10/dist-packages (from spacy<3.8.0,>=3.7.0->es-core-news-md==3.7.0) (1.25.2)\n",
            "Requirement already satisfied: language-data>=1.2 in /usr/local/lib/python3.10/dist-packages (from langcodes<4.0.0,>=3.2.0->spacy<3.8.0,>=3.7.0->es-core-news-md==3.7.0) (1.2.0)\n",
            "Requirement already satisfied: annotated-types>=0.4.0 in /usr/local/lib/python3.10/dist-packages (from pydantic!=1.8,!=1.8.1,<3.0.0,>=1.7.4->spacy<3.8.0,>=3.7.0->es-core-news-md==3.7.0) (0.6.0)\n",
            "Requirement already satisfied: pydantic-core==2.18.2 in /usr/local/lib/python3.10/dist-packages (from pydantic!=1.8,!=1.8.1,<3.0.0,>=1.7.4->spacy<3.8.0,>=3.7.0->es-core-news-md==3.7.0) (2.18.2)\n",
            "Requirement already satisfied: typing-extensions>=4.6.1 in /usr/local/lib/python3.10/dist-packages (from pydantic!=1.8,!=1.8.1,<3.0.0,>=1.7.4->spacy<3.8.0,>=3.7.0->es-core-news-md==3.7.0) (4.11.0)\n",
            "Requirement already satisfied: charset-normalizer<4,>=2 in /usr/local/lib/python3.10/dist-packages (from requests<3.0.0,>=2.13.0->spacy<3.8.0,>=3.7.0->es-core-news-md==3.7.0) (3.3.2)\n",
            "Requirement already satisfied: idna<4,>=2.5 in /usr/local/lib/python3.10/dist-packages (from requests<3.0.0,>=2.13.0->spacy<3.8.0,>=3.7.0->es-core-news-md==3.7.0) (3.7)\n",
            "Requirement already satisfied: urllib3<3,>=1.21.1 in /usr/local/lib/python3.10/dist-packages (from requests<3.0.0,>=2.13.0->spacy<3.8.0,>=3.7.0->es-core-news-md==3.7.0) (2.0.7)\n",
            "Requirement already satisfied: certifi>=2017.4.17 in /usr/local/lib/python3.10/dist-packages (from requests<3.0.0,>=2.13.0->spacy<3.8.0,>=3.7.0->es-core-news-md==3.7.0) (2024.2.2)\n",
            "Requirement already satisfied: blis<0.8.0,>=0.7.8 in /usr/local/lib/python3.10/dist-packages (from thinc<8.3.0,>=8.2.2->spacy<3.8.0,>=3.7.0->es-core-news-md==3.7.0) (0.7.11)\n",
            "Requirement already satisfied: confection<1.0.0,>=0.0.1 in /usr/local/lib/python3.10/dist-packages (from thinc<8.3.0,>=8.2.2->spacy<3.8.0,>=3.7.0->es-core-news-md==3.7.0) (0.1.4)\n",
            "Requirement already satisfied: click<9.0.0,>=7.1.1 in /usr/local/lib/python3.10/dist-packages (from typer<0.10.0,>=0.3.0->spacy<3.8.0,>=3.7.0->es-core-news-md==3.7.0) (8.1.7)\n",
            "Requirement already satisfied: cloudpathlib<0.17.0,>=0.7.0 in /usr/local/lib/python3.10/dist-packages (from weasel<0.4.0,>=0.1.0->spacy<3.8.0,>=3.7.0->es-core-news-md==3.7.0) (0.16.0)\n",
            "Requirement already satisfied: MarkupSafe>=2.0 in /usr/local/lib/python3.10/dist-packages (from jinja2->spacy<3.8.0,>=3.7.0->es-core-news-md==3.7.0) (2.1.5)\n",
            "Requirement already satisfied: marisa-trie>=0.7.7 in /usr/local/lib/python3.10/dist-packages (from language-data>=1.2->langcodes<4.0.0,>=3.2.0->spacy<3.8.0,>=3.7.0->es-core-news-md==3.7.0) (1.1.0)\n",
            "\u001b[38;5;2m✔ Download and installation successful\u001b[0m\n",
            "You can now load the package via spacy.load('es_core_news_md')\n",
            "\u001b[38;5;3m⚠ Restart to reload dependencies\u001b[0m\n",
            "If you are in a Jupyter or Colab notebook, you may need to restart Python in\n",
            "order to load all the package's dependencies. You can do this by selecting the\n",
            "'Restart kernel' or 'Restart runtime' option.\n"
          ]
        }
      ],
      "source": [
        "!python -m spacy download es_core_news_md\n",
        "import pathlib\n",
        "import spacy\n",
        "import pandas as pd\n",
        "from spacy import displacy\n",
        "import csv\n",
        "import es_core_news_md"
      ]
    },
    {
      "cell_type": "markdown",
      "metadata": {
        "id": "ug9GQgYHOjnd"
      },
      "source": [
        "El siguiente código simplemente carga y preprocesa el texto. Para ello, lo primero que hace es cargar un modelo de lenguaje previamente entrenado. En este caso, se utiliza <i>es_core_news_md</i>:\n",
        "\n",
        "https://spacy.io/models/es#es_core_news_md\n"
      ]
    },
    {
      "cell_type": "code",
      "execution_count": null,
      "metadata": {
        "id": "pue4FUqGOjnd"
      },
      "outputs": [],
      "source": [
        "nlp = es_core_news_md.load()"
      ]
    },
    {
      "cell_type": "code",
      "source": [
        "!ls \"/content/drive/MyDrive/MaestriaIA/Procesamiento de lenguaje natural/Actividad 1\""
      ],
      "metadata": {
        "colab": {
          "base_uri": "https://localhost:8080/"
        },
        "id": "UjXJnIpC95ji",
        "outputId": "64a0eb2f-0608-4cf9-a440-79fed4c9bf54"
      },
      "execution_count": null,
      "outputs": [
        {
          "output_type": "stream",
          "name": "stdout",
          "text": [
            "02Dataset_sin_procesar.csv  caracteristicasOdio.ipynb  ISO-8859-1-comentariosOdio.csv\n"
          ]
        }
      ]
    },
    {
      "cell_type": "markdown",
      "metadata": {
        "id": "TRVaFq-ROjnd"
      },
      "source": [
        "El objeto <i>nlp</i> permite utilizar el modelo de lenguaje cargado, de forma que se puede procesar un texto y obtenerlo en su versión preprocesada. Así, nos permite realizar las diferentes tareas. En este caso, vamos a utilizar el pipeline para hacer un preprocesamiento básico, que consiste en tokenizar el texto."
      ]
    },
    {
      "cell_type": "code",
      "execution_count": null,
      "metadata": {
        "colab": {
          "base_uri": "https://localhost:8080/"
        },
        "id": "27j2WpGgOjnd",
        "outputId": "8f236fcc-5345-4347-c8ac-b126e9fe586f"
      },
      "outputs": [
        {
          "output_type": "stream",
          "name": "stdout",
          "text": [
            "      MEDIO SOPORTE                                                URL  \\\n",
            "0  EL PAÍS      WEB  https://elpais.com/deportes/2021-01-20/alcoyan...   \n",
            "1  EL PAÍS      WEB  https://elpais.com/deportes/2021-01-20/alcoyan...   \n",
            "2  EL PAÍS      WEB  https://elpais.com/espana/2021-01-18/comienza-...   \n",
            "3  EL PAÍS      WEB  https://elpais.com/espana/2021-01-18/comienza-...   \n",
            "4  EL PAÍS      WEB  https://elpais.com/espana/2021-01-18/comienza-...   \n",
            "\n",
            "  TIPO DE MENSAJE                               CONTENIDO A ANALIZAR  \\\n",
            "0      COMENTARIO  el barça nunca acaeza ante un segundo b ni ant...   \n",
            "1      COMENTARIO  el real madrid ha puesto punto y final a su an...   \n",
            "2      COMENTARIO  cristina cifuentes podría haber sido la presid...   \n",
            "3      COMENTARIO  habría que reabrir el caso. el supremo se dedi...   \n",
            "4      COMENTARIO  me parece un poco exagerado pedir más de tres ...   \n",
            "\n",
            "   INTENSIDAD TIPO DE ODIO TONO HUMORISTICO MODIFICADOR  Unnamed: 9  \\\n",
            "0         3.0        Otros              NaN         NaN         NaN   \n",
            "1         0.0          NaN              NaN         NaN         NaN   \n",
            "2         3.0   Ideológico              NaN         NaN         NaN   \n",
            "3         3.0   Ideológico              NaN         NaN         NaN   \n",
            "4         3.0   Ideológico               Si         NaN         NaN   \n",
            "\n",
            "   Unnamed: 10  Unnamed: 11  Unnamed: 12  Unnamed: 13  Unnamed: 14  \\\n",
            "0          NaN          NaN          NaN          NaN          NaN   \n",
            "1          NaN          NaN          NaN          NaN          NaN   \n",
            "2          NaN          NaN          NaN          NaN          NaN   \n",
            "3          NaN          NaN          NaN          NaN          NaN   \n",
            "4          NaN          NaN          NaN          NaN          NaN   \n",
            "\n",
            "   Unnamed: 15  \n",
            "0          NaN  \n",
            "1          NaN  \n",
            "2          NaN  \n",
            "3          NaN  \n",
            "4          NaN  \n"
          ]
        }
      ],
      "source": [
        "filename = \"/content/drive/MyDrive/MaestriaIA/Procesamiento de lenguaje natural/Actividad 1/ISO-8859-1-comentariosOdio.csv\"\n",
        "#with open(filename, 'rb') as file:\n",
        "#    result = chardet.detect(file.read(10000))  # Lee solo los primeros 10000 bytes para la detección\n",
        "#    print(result)\n",
        "lines_number = 500\n",
        "data = pd.read_csv(filename, delimiter=';',  low_memory=False, encoding='ISO-8859-1',nrows=lines_number)\n",
        "print(data.head())\n",
        "#data = pd.read_csv(filename, delimiter=';',nrows=lines_number)"
      ]
    },
    {
      "cell_type": "markdown",
      "metadata": {
        "id": "DWhJb9jxOjnd"
      },
      "source": [
        "### Playground\n",
        "\n",
        "Utiliza este espacio para hacer pruebas y ensayos con las variables generadas con el código previo. A modo de ejemplo, se ofrece código que realiza las siguientes tareas:\n",
        "\n",
        "\n",
        "- leer un número dado de líneas del Dataframe y generar dos listas con los valores (se pueden leer directamente del DataFrame, se muestra el ejemplo como una opción más)\n",
        "- procesar el texto de cada comentario\n",
        "\n",
        "\n",
        "Para procesarlo, hay utilizar el objeto <i>nlp</i> y así obtener objetos de la clase <i>Doc</i> (https://spacy.io/api/doc)\n",
        "\n",
        "Visita la documentación de dicha clase y experimenta probando las diferentes funciones y atributos"
      ]
    },
    {
      "cell_type": "code",
      "execution_count": null,
      "metadata": {
        "id": "-vUyfrY5Ojnd"
      },
      "outputs": [],
      "source": [
        "# Puedes insertar aquí código de pruebas para experimentar con las diferentes funciones y atributos de 'doc'.\n",
        "#print(data[\"CONTENIDO A ANALIZAR\"][1])\n",
        "#print(data[\"INTENSIDAD\"][1])\n",
        "doc = []\n",
        "value = []\n",
        "\n",
        "#con el bucle, generamos sendas listas con los comentarios ya parseados y con el valor de intensidad\n",
        "for i in range(0, lines_number):\n",
        "\n",
        "    #en un primer paso se parsea el comentario. En el segundo paso se añade el objeto a la lista\n",
        "    tmp_doc = nlp(data[\"CONTENIDO A ANALIZAR\"][i])\n",
        "    doc.append(tmp_doc)\n",
        "\n",
        "    #en un primer paso extrae el valor. En el segundo paso se añade el valor a la lista\n",
        "    tmp_value = data[\"INTENSIDAD\"][i]\n",
        "    value.append(tmp_value)\n",
        "\n",
        "\n",
        "#ejemplo de cómo recorrer un comentario palabra por palabra\n",
        "for token in doc[1]:\n",
        "    print(token)"
      ]
    },
    {
      "cell_type": "markdown",
      "metadata": {
        "id": "dMwATxi-Ojne"
      },
      "source": [
        "<span style=\"font-size: 14pt; font-weight: bold; color: #0098cd;\">Pregunta 1.</span>\n",
        "<span style=\"font-size: 14pt; font-weight: bold; color: #0098cd;\">¿Cuántos registros contiene el corpus?</span>"
      ]
    },
    {
      "cell_type": "code",
      "execution_count": null,
      "metadata": {
        "id": "MQbs-G6AOjne",
        "colab": {
          "base_uri": "https://localhost:8080/"
        },
        "outputId": "f3e3cf57-7c6b-45bb-cf31-5d7cc492a96f"
      },
      "outputs": [
        {
          "output_type": "stream",
          "name": "stdout",
          "text": [
            "Número de registros: 574915\n"
          ]
        }
      ],
      "source": [
        "# Incluye aquí el código generado para poder responder a tu pregunta\n",
        "num_records = len(data)\n",
        "print(\"Número de registros:\", num_records)\n",
        "\n",
        "#filename = \"/content/drive/MyDrive/MaestriaIA/Procesamiento de lenguaje natural/Actividad 1/ISO-8859-1-comentariosOdio.csv\"\n",
        "#data = pd.read_csv(filename, delimiter=';', low_memory=False, encoding='ISO-8859-1')\n",
        "#num_records = len(data)\n",
        "#print(\"El número de registros en el corpus es:\", num_records)"
      ]
    },
    {
      "cell_type": "markdown",
      "metadata": {
        "id": "WXBJKlDwOjne"
      },
      "source": [
        "<b>Incluye aquí, debajo de la línea, la explicación de tu respuesta</b>\n",
        "<hr>\n"
      ]
    },
    {
      "cell_type": "markdown",
      "metadata": {
        "id": "gp2JNLGYOjne"
      },
      "source": [
        "<span style=\"font-size: 14pt; font-weight: bold; color: #0098cd;\">Pregunta 2.</span>\n",
        "<span style=\"font-size: 14pt; font-weight: bold; color: #0098cd;\">¿Cuántas palabras totales hay en los comentarios del corpus?</span>"
      ]
    },
    {
      "cell_type": "code",
      "execution_count": null,
      "metadata": {
        "id": "8PAQ1JrVOjne",
        "colab": {
          "base_uri": "https://localhost:8080/"
        },
        "outputId": "746fe83d-090d-4792-d868-e79781d447f3"
      },
      "outputs": [
        {
          "output_type": "stream",
          "name": "stdout",
          "text": [
            "Número total de palabras en los comentarios del tipo 'COMENTARIO': 15650679\n"
          ]
        }
      ],
      "source": [
        "# Incluye aquí el código generado para poder responder a tu pregunta\n",
        "# Filtrar para incluir solo las filas donde el TIPO DE MENSAJE es COMENTARIO\n",
        "filtered_data = data[data['TIPO DE MENSAJE'] == 'COMENTARIO'].copy()\n",
        "# Asegurarte de que no hay valores nulos en la columna de contenido\n",
        "filtered_data['CONTENIDO A ANALIZAR'].fillna('', inplace=True)\n",
        "# Contar las palabras en cada comentario y sumar el total\n",
        "total_words = filtered_data['CONTENIDO A ANALIZAR'].apply(lambda x: len(x.split())).sum()\n",
        "print(\"Número total de palabras del tipo 'COMENTARIO':\", total_words)"
      ]
    },
    {
      "cell_type": "markdown",
      "metadata": {
        "id": "9T4UkihlOjne"
      },
      "source": [
        "<b>Incluye aquí, debajo de la línea, la explicación de tu respuesta</b>\n",
        "<hr>\n"
      ]
    },
    {
      "cell_type": "markdown",
      "metadata": {
        "id": "fX5eoSiZOjne"
      },
      "source": [
        "<span style=\"font-size: 14pt; font-weight: bold; color: #0098cd;\">Pregunta 3.</span>\n",
        "<span style=\"font-size: 14pt; font-weight: bold; color: #0098cd;\">¿Cuál el número promedio de palabras en cada comentario?</span>"
      ]
    },
    {
      "cell_type": "code",
      "execution_count": null,
      "metadata": {
        "id": "t1dS4tBSOjne",
        "colab": {
          "base_uri": "https://localhost:8080/"
        },
        "outputId": "0155d399-abab-4974-f849-6c3a9f9903b2"
      },
      "outputs": [
        {
          "output_type": "stream",
          "name": "stdout",
          "text": [
            "El número promedio de palabras por comentario es: 46.813049057348735\n"
          ]
        }
      ],
      "source": [
        "# Incluye aquí el código generado para poder responder a tu pregunta\n",
        "# Filtrar para incluir solo las filas donde el TIPO DE MENSAJE es COMENTARIO\n",
        "comments_data = data[data['TIPO DE MENSAJE'] == 'COMENTARIO'].copy()\n",
        "# Asegurarte de que no hay valores nulos en la columna de contenido\n",
        "comments_data['CONTENIDO A ANALIZAR'].fillna('', inplace=True)\n",
        "# Contar las palabras en cada comentario\n",
        "comments_data['Word Count'] = comments_data['CONTENIDO A ANALIZAR'].apply(lambda x: len(x.split()))\n",
        "# Calcular el promedio de palabras por comentario\n",
        "average_words = comments_data['Word Count'].mean()\n",
        "print(\"El número promedio de palabras por comentario es:\", average_words)"
      ]
    },
    {
      "cell_type": "markdown",
      "metadata": {
        "id": "AgbYsdweOjne"
      },
      "source": [
        "<b>Incluye aquí, debajo de la línea, la explicación de tu respuesta</b>\n",
        "<hr>\n"
      ]
    },
    {
      "cell_type": "markdown",
      "metadata": {
        "id": "A6D1IwnfOjne"
      },
      "source": [
        "<span style=\"font-size: 14pt; font-weight: bold; color: #0098cd;\">Pregunta 4.</span>\n",
        "<span style=\"font-size: 14pt; font-weight: bold; color: #0098cd;\">Considerando dos grupos de comentarios (odio y no odio) ¿Cuál el número promedio de palabras en los comentarios de cada grupo?</span>"
      ]
    },
    {
      "cell_type": "code",
      "execution_count": null,
      "metadata": {
        "id": "0B5GgzWLOjne",
        "colab": {
          "base_uri": "https://localhost:8080/"
        },
        "outputId": "bb415760-c9cd-4e1b-87de-c4c3ae05e0b5"
      },
      "outputs": [
        {
          "output_type": "stream",
          "name": "stdout",
          "text": [
            "Número promedio de palabras por categoría de comentario:\n",
            "Categoría\n",
            "Odio    46.813049\n",
            "Name: Word Count, dtype: float64\n"
          ]
        }
      ],
      "source": [
        "# Incluye aquí el código generado para poder responder a tu pregunta\n",
        "# Filtrar para incluir solo las filas donde el TIPO DE MENSAJE es COMENTARIO\n",
        "comments_data = data[data['TIPO DE MENSAJE'] == 'COMENTARIO'].copy()\n",
        "# Consideramos cualquier comentario con INTENSIDAD diferente de cero como 'odio'\n",
        "comments_data['Categoría'] = comments_data['INTENSIDAD'].apply(lambda x: 'Odio' if x != 0 else 'No Odio')\n",
        "# Asegurarse de que no hay valores nulos en la columna de contenido\n",
        "comments_data['CONTENIDO A ANALIZAR'].fillna('', inplace=True)\n",
        "# Contar las palabras en cada comentario\n",
        "comments_data['Word Count'] = comments_data['CONTENIDO A ANALIZAR'].apply(lambda x: len(x.split()))\n",
        "# Agrupar por 'Categoría' y calcular el promedio de palabras\n",
        "average_words_per_category = comments_data.groupby('Categoría')['Word Count'].mean()\n",
        "print(\"Número promedio de palabras por categoría de comentario:\")\n",
        "print(average_words_per_category)"
      ]
    },
    {
      "cell_type": "markdown",
      "metadata": {
        "id": "e2lKeSekOjne"
      },
      "source": [
        "<b>Incluye aquí, debajo de la línea, la explicación de tu respuesta</b>\n",
        "<hr>\n"
      ]
    },
    {
      "cell_type": "markdown",
      "metadata": {
        "id": "KNZUaamIOjnf"
      },
      "source": [
        "<span style=\"font-size: 14pt; font-weight: bold; color: #0098cd;\">Pregunta 5.</span>\n",
        "<span style=\"font-size: 14pt; font-weight: bold; color: #0098cd;\">Considerando dos grupos de comentarios (odio y no odio) ¿Cuál es el número promedio de oraciones en los comentarios de cada grupo?</span>"
      ]
    },
    {
      "cell_type": "code",
      "execution_count": null,
      "metadata": {
        "id": "hHd01HF5Ojnf"
      },
      "outputs": [],
      "source": [
        "# Incluye aquí el código generado para poder responder a tu pregunta\n"
      ]
    },
    {
      "cell_type": "markdown",
      "metadata": {
        "id": "ICJr823yOjnf"
      },
      "source": [
        "<b>Incluye aquí, debajo de la línea, la explicación de tu respuesta</b>\n",
        "<hr>\n"
      ]
    },
    {
      "cell_type": "markdown",
      "metadata": {
        "id": "rksmCW3UOjnf"
      },
      "source": [
        "<span style=\"font-size: 14pt; font-weight: bold; color: #0098cd;\">Pregunta 6.</span>\n",
        "<span style=\"font-size: 14pt; font-weight: bold; color: #0098cd;\">Considerando dos grupos de comentarios (odio y no odio) ¿Cuál es el porcentaje de comentarios que contienen entidades NER en cada grupo?</span>"
      ]
    },
    {
      "cell_type": "code",
      "execution_count": null,
      "metadata": {
        "id": "RF-RQkkgOjnf"
      },
      "outputs": [],
      "source": [
        "# Incluye aquí el código generado para poder responder a tu pregunta\n"
      ]
    },
    {
      "cell_type": "markdown",
      "metadata": {
        "id": "4PNFFnJAOjnf"
      },
      "source": [
        "<b>Incluye aquí, debajo de la línea, la explicación de tu respuesta</b>\n",
        "<hr>\n"
      ]
    },
    {
      "cell_type": "markdown",
      "metadata": {
        "id": "TxCzS1OWOjnf"
      },
      "source": [
        "<span style=\"font-size: 14pt; font-weight: bold; color: #0098cd;\">Pregunta 7.</span>\n",
        "<span style=\"font-size: 14pt; font-weight: bold; color: #0098cd;\">Considerando dos grupos de comentarios (odio y no odio) ¿Cuál es el porcentaje de comentarios que contienen entidades NER de tipo PERSON en cada grupo?</span>"
      ]
    },
    {
      "cell_type": "code",
      "execution_count": null,
      "metadata": {
        "id": "I1j1p5BYOjnf"
      },
      "outputs": [],
      "source": [
        "# Incluye aquí el código generado para poder responder a tu pregunta\n"
      ]
    },
    {
      "cell_type": "markdown",
      "metadata": {
        "id": "Pyc8qusGOjnf"
      },
      "source": [
        "<b>Incluye aquí, debajo de la línea, la explicación de tu respuesta</b>\n",
        "<hr>\n"
      ]
    },
    {
      "cell_type": "markdown",
      "metadata": {
        "id": "LIIV8nbEOjnf"
      },
      "source": [
        "<span style=\"font-size: 14pt; font-weight: bold; color: #0098cd;\">Pregunta 8.</span>\n",
        "<span style=\"font-size: 14pt; font-weight: bold; color: #0098cd;\">Considerando dos grupos de comentarios (odio y no odio) ¿Cuál es el porcentaje de palabras en cada combinación posible de género y número (p.ej. masculino singular) en cada grupo?</span>"
      ]
    },
    {
      "cell_type": "code",
      "execution_count": null,
      "metadata": {
        "id": "HrGn1zV_Ojnf"
      },
      "outputs": [],
      "source": [
        "# Incluye aquí el código generado para poder responder a tu pregunta\n"
      ]
    },
    {
      "cell_type": "markdown",
      "metadata": {
        "id": "RaN3SEoqOjnf"
      },
      "source": [
        "<b>Incluye aquí, debajo de la línea, la explicación de tu respuesta</b>\n",
        "<hr>\n"
      ]
    },
    {
      "cell_type": "markdown",
      "metadata": {
        "id": "08YD_8qnOjng"
      },
      "source": [
        "<span style=\"font-size: 14pt; font-weight: bold; color: #0098cd;\">Pregunta 9.</span>\n",
        "<span style=\"font-size: 14pt; font-weight: bold; color: #0098cd;\">Considerando dos grupos de comentarios (odio y no odio), indica cuántas entidades de cada tipo posible se reconocen en cada uno de los grupos</span>"
      ]
    },
    {
      "cell_type": "code",
      "execution_count": null,
      "metadata": {
        "id": "5dBAd0AqOjng"
      },
      "outputs": [],
      "source": [
        "# Incluye aquí el código generado para poder responder a tu pregunta\n"
      ]
    },
    {
      "cell_type": "markdown",
      "metadata": {
        "id": "1fVXlqJiOjng"
      },
      "source": [
        "<b>Incluye aquí, debajo de la línea, la explicación de tu respuesta</b>\n",
        "<hr>\n"
      ]
    },
    {
      "cell_type": "markdown",
      "metadata": {
        "id": "uF7B9wJuOjng"
      },
      "source": [
        "<span style=\"font-size: 14pt; font-weight: bold; color: #0098cd;\">Pregunta 10.</span>\n",
        "<span style=\"font-size: 14pt; font-weight: bold; color: #0098cd;\">Considerando dos grupos de comentarios (odio y no odio), extrae y muestra los 100 lemas más repetidos en los comentarios de cada grupo</span>"
      ]
    },
    {
      "cell_type": "code",
      "execution_count": null,
      "metadata": {
        "id": "_7VFaUgDOjnh"
      },
      "outputs": [],
      "source": [
        "# Incluye aquí el código generado para poder responder a tu pregunta\n"
      ]
    },
    {
      "cell_type": "markdown",
      "metadata": {
        "id": "FMYK-vn9Ojnh"
      },
      "source": [
        "<b>Incluye aquí, debajo de la línea, la explicación de tu respuesta</b>\n",
        "<hr>\n"
      ]
    },
    {
      "cell_type": "markdown",
      "metadata": {
        "id": "sRkMoVNcOjnh"
      },
      "source": [
        "<span style=\"font-size: 14pt; font-weight: bold; color: #0098cd;\">Pregunta 11.</span>\n",
        "<span style=\"font-size: 14pt; font-weight: bold; color: #0098cd;\">¿Es posible utilizar alguna de las características extraídas en las preguntas anteriores para determinar si un mensaje contiene odio? Justifica tu respuesta con el análisis estadístico que consideres necesario.</span>"
      ]
    },
    {
      "cell_type": "code",
      "execution_count": null,
      "metadata": {
        "id": "CsVJ8qUzOjnh"
      },
      "outputs": [],
      "source": [
        "# Incluye aquí el código generado para poder responder a tu pregunta\n"
      ]
    },
    {
      "cell_type": "markdown",
      "metadata": {
        "id": "hHx_xkswOjnh"
      },
      "source": [
        "<b>Incluye aquí, debajo de la línea, la explicación de tu respuesta</b>\n",
        "<hr>\n"
      ]
    }
  ],
  "metadata": {
    "kernelspec": {
      "display_name": "Python 3 (ipykernel)",
      "language": "python",
      "name": "python3"
    },
    "language_info": {
      "codemirror_mode": {
        "name": "ipython",
        "version": 3
      },
      "file_extension": ".py",
      "mimetype": "text/x-python",
      "name": "python",
      "nbconvert_exporter": "python",
      "pygments_lexer": "ipython3",
      "version": "3.11.5"
    },
    "colab": {
      "provenance": [],
      "include_colab_link": true
    }
  },
  "nbformat": 4,
  "nbformat_minor": 0
}